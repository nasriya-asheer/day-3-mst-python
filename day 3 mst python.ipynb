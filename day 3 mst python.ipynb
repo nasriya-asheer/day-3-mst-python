{
 "cells": [
  {
   "cell_type": "code",
   "execution_count": 1,
   "id": "58e338a6",
   "metadata": {},
   "outputs": [
    {
     "name": "stdout",
     "output_type": "stream",
     "text": [
      "The runner-up score is: 95\n"
     ]
    }
   ],
   "source": [
    "#qs no 1\n",
    "def find_runner_up(scores):\n",
    "    unique_scores = sorted(set(scores), reverse=True)\n",
    "    if len(unique_scores) > 1:\n",
    "        runner_up_score = unique_scores[1]\n",
    "        return runner_up_score\n",
    "    else:\n",
    "        return None  \n",
    "\n",
    "scores_list = [98, 85, 90, 95, 95, 92, 88, 87]\n",
    "runner_up = find_runner_up(scores_list)\n",
    "\n",
    "if runner_up is not None:\n",
    "    print(f\"The runner-up score is: {runner_up}\")\n",
    "else:\n",
    "    print(\"There is no runner-up as there is only one unique score.\")\n"
   ]
  },
  {
   "cell_type": "code",
   "execution_count": 4,
   "id": "29d5443c",
   "metadata": {},
   "outputs": [
    {
     "name": "stdout",
     "output_type": "stream",
     "text": [
      "Enter a name: meena\n",
      "Values for meena updated to [88, 77, 99]\n",
      "Updated dictionary: {'john': [25, 32, 43], 'peter': [87, 55, 96], 'ram': [58, 55, 43], 'meena': [88, 77, 99]}\n"
     ]
    }
   ],
   "source": [
    "#qs no 2\n",
    "D = {'john': [25, 32, 43], 'peter': [87, 55, 96], 'ram': [58, 55, 43], 'meena': [63, 79, 85]}\n",
    "\n",
    "user_name = input(\"Enter a name: \")\n",
    "if user_name in D:\n",
    "    D[user_name] = [88, 77, 99]\n",
    "    print(f\"Values for {user_name} updated to [88, 77, 99]\")\n",
    "    print(\"Updated dictionary:\", D)\n",
    "else:\n",
    "    print(\"Name not found.\")\n"
   ]
  },
  {
   "cell_type": "code",
   "execution_count": 5,
   "id": "794725f8",
   "metadata": {},
   "outputs": [
    {
     "name": "stdout",
     "output_type": "stream",
     "text": [
      "Enter your age: 13\n",
      "Enter your gender (male/female): female\n",
      "Your ticket price is Rs.25.0\n"
     ]
    }
   ],
   "source": [
    "#qs no 3\n",
    "age = int(input(\"Enter your age: \"))\n",
    "gender = input(\"Enter your gender (male/female): \").lower()\n",
    "if age < 5:\n",
    "    ticket_price = 0 \n",
    "elif 5 <= age <= 12:\n",
    "    ticket_price = 10 \n",
    "elif age > 60:\n",
    "    ticket_price = 0 \n",
    "else:\n",
    "    ticket_price = 50  \n",
    "if gender == 'female':\n",
    "    ticket_price *= 0.5 \n",
    "print(f\"Your ticket price is Rs.{ticket_price}\")\n"
   ]
  },
  {
   "cell_type": "code",
   "execution_count": null,
   "id": "18d6d121",
   "metadata": {},
   "outputs": [],
   "source": []
  }
 ],
 "metadata": {
  "kernelspec": {
   "display_name": "Python 3 (ipykernel)",
   "language": "python",
   "name": "python3"
  },
  "language_info": {
   "codemirror_mode": {
    "name": "ipython",
    "version": 3
   },
   "file_extension": ".py",
   "mimetype": "text/x-python",
   "name": "python",
   "nbconvert_exporter": "python",
   "pygments_lexer": "ipython3",
   "version": "3.11.5"
  }
 },
 "nbformat": 4,
 "nbformat_minor": 5
}
